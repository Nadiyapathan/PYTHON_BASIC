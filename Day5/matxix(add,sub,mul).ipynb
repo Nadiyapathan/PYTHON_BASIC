{
 "cells": [
  {
   "cell_type": "markdown",
   "metadata": {},
   "source": [
    "matrix add or sub"
   ]
  },
  {
   "cell_type": "code",
   "execution_count": 7,
   "metadata": {},
   "outputs": [
    {
     "name": "stdout",
     "output_type": "stream",
     "text": [
      "2.2.4\n"
     ]
    }
   ],
   "source": [
    "import numpy\n",
    "import numpy as np\n",
    "print(np.__version__)\n",
    "\n"
   ]
  },
  {
   "cell_type": "code",
   "execution_count": 8,
   "metadata": {},
   "outputs": [
    {
     "name": "stdout",
     "output_type": "stream",
     "text": [
      "Matrix Addition:\n",
      " [[ 9 11]\n",
      " [11 13]]\n"
     ]
    }
   ],
   "source": [
    "matrix_a = np.array([[4,5],[3,4]])\n",
    "matrix_b=np.array([[5,6],[8,9]])\n",
    "matrix_sum=matrix_a+matrix_b\n",
    "print(\"Matrix Addition:\\n\",matrix_sum)"
   ]
  },
  {
   "cell_type": "code",
   "execution_count": 10,
   "metadata": {},
   "outputs": [
    {
     "name": "stdout",
     "output_type": "stream",
     "text": [
      "Matrix Subtraction:\n",
      " [[-1 -1]\n",
      " [-5 -5]]\n"
     ]
    }
   ],
   "source": [
    "matrix_diff=matrix_a-matrix_b\n",
    "print(\"Matrix Subtraction:\\n\",matrix_diff)"
   ]
  },
  {
   "cell_type": "markdown",
   "metadata": {},
   "source": [
    "\n",
    "\n",
    "#Matrix Multiplication"
   ]
  },
  {
   "cell_type": "code",
   "execution_count": 11,
   "metadata": {},
   "outputs": [
    {
     "name": "stdout",
     "output_type": "stream",
     "text": [
      "\n",
      " Multiplication:\n",
      " [[20 30]\n",
      " [24 36]]\n"
     ]
    }
   ],
   "source": [
    "matrix_mul=matrix_a*matrix_b\n",
    "print(\"\\n Multiplication:\\n\",matrix_mul)"
   ]
  },
  {
   "cell_type": "code",
   "execution_count": 12,
   "metadata": {},
   "outputs": [
    {
     "name": "stdout",
     "output_type": "stream",
     "text": [
      "\n",
      "matric Dot product\n",
      " [[60 69]\n",
      " [47 54]]\n"
     ]
    }
   ],
   "source": [
    "matrix_dot=np.dot(matrix_a,matrix_b)\n",
    "print(\"\\nmatric Dot product\\n\",matrix_dot)"
   ]
  },
  {
   "cell_type": "code",
   "execution_count": 13,
   "metadata": {},
   "outputs": [
    {
     "name": "stdout",
     "output_type": "stream",
     "text": [
      "\n",
      "Matrix Transpose:\n",
      " [[4 3]\n",
      " [5 4]]\n"
     ]
    }
   ],
   "source": [
    "\n",
    "# Transpose of a matrix\n",
    "transpose_a = np.transpose(matrix_a)\n",
    "print(\"\\nMatrix Transpose:\\n\", transpose_a)"
   ]
  }
 ],
 "metadata": {
  "kernelspec": {
   "display_name": "Python 3",
   "language": "python",
   "name": "python3"
  },
  "language_info": {
   "codemirror_mode": {
    "name": "ipython",
    "version": 3
   },
   "file_extension": ".py",
   "mimetype": "text/x-python",
   "name": "python",
   "nbconvert_exporter": "python",
   "pygments_lexer": "ipython3",
   "version": "3.13.2"
  }
 },
 "nbformat": 4,
 "nbformat_minor": 2
}
