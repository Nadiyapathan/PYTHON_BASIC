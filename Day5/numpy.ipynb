{
 "cells": [
  {
   "cell_type": "code",
   "execution_count": 12,
   "metadata": {},
   "outputs": [
    {
     "name": "stdout",
     "output_type": "stream",
     "text": [
      "2.2.4\n",
      "10\n",
      "[10]\n",
      "30\n",
      "[[[10 20 30]\n",
      "  [10 20 30]]\n",
      "\n",
      " [[50 60 80]\n",
      "  [20 50 60]]]\n"
     ]
    }
   ],
   "source": [
    "import numpy as np\n",
    "print(np.__version__)\n",
    "a = np.array(10)#odimensional array\n",
    "print(a)\n",
    "\n",
    "a1 =np.array([10,20])#1d\n",
    "#indexing\n",
    "print(a1[0:1])\n",
    "a2=np.array([[10,21],[20,30]])#2d\n",
    "a2[0][1]\n",
    "a3 = np.array([[[10,20,30],[10,20,30]],[[50,60,80],[20,50,60]]])#3dimensional array\n",
    "\n",
    "print(a3[0][1][2])#three dimensional\n",
    "print(a3)"
   ]
  },
  {
   "cell_type": "code",
   "execution_count": null,
   "metadata": {},
   "outputs": [],
   "source": [
    "a3 = np.array([[[10,20,30],[10,20,30]],[[50,60,80],[20,50,60]]])#3dimensional array\n",
    "\n",
    "print(a3[0][1][2])#three dimensional\n",
    "print(a3)"
   ]
  },
  {
   "cell_type": "code",
   "execution_count": null,
   "metadata": {},
   "outputs": [],
   "source": [
    "a=([[11,12,],[15,16]])\n",
    "b=np.asarray(a,dtype=float)\n",
    "print(b)"
   ]
  },
  {
   "cell_type": "markdown",
   "metadata": {},
   "source": [
    "#row major order(\"c\")///coloum major order(\"f\")"
   ]
  },
  {
   "cell_type": "code",
   "execution_count": null,
   "metadata": {},
   "outputs": [],
   "source": [
    "b=np.asarray(a,dtype=int,order=\"c\")\n",
    "for i in np.nditer(b):\n",
    "    print(i)"
   ]
  },
  {
   "cell_type": "markdown",
   "metadata": {},
   "source": [
    "#from buffer\n"
   ]
  },
  {
   "cell_type": "code",
   "execution_count": null,
   "metadata": {},
   "outputs": [],
   "source": [
    "a=b\"welcome to numpy\"\n",
    "np.frombuffer(a,dtype=\"S1\",count=2)\n",
    "a=b\"welcome to numpy\"\n",
    "np.frombuffer(a,dtype=\"S1\",offset=5)"
   ]
  },
  {
   "cell_type": "markdown",
   "metadata": {},
   "source": [
    "fromiter()"
   ]
  },
  {
   "cell_type": "code",
   "execution_count": null,
   "metadata": {},
   "outputs": [],
   "source": [
    "a=[12.14,15]\n",
    "np.fromiter(a,dtype=\"S1\")"
   ]
  },
  {
   "cell_type": "markdown",
   "metadata": {},
   "source": [
    "Array"
   ]
  },
  {
   "cell_type": "code",
   "execution_count": null,
   "metadata": {},
   "outputs": [],
   "source": [
    "import numpy as np\n",
    "\n",
    "# Creating a NumPy array of zeros with a size of 3\n",
    "a = np.zeros(3)\n",
    "print(a)\n"
   ]
  },
  {
   "cell_type": "code",
   "execution_count": 11,
   "metadata": {},
   "outputs": [
    {
     "name": "stdout",
     "output_type": "stream",
     "text": [
      "[[[0. 0. 0.]\n",
      "  [0. 0. 0.]]\n",
      "\n",
      " [[0. 0. 0.]\n",
      "  [0. 0. 0.]]]\n"
     ]
    }
   ],
   "source": [
    "import numpy as np\n",
    "\n",
    "# Creating a 3D NumPy array of zeros with dimensions 2x2x3\n",
    "a = np.zeros([2, 2, 3])\n",
    "print(a)\n"
   ]
  },
  {
   "cell_type": "code",
   "execution_count": 15,
   "metadata": {},
   "outputs": [
    {
     "name": "stdout",
     "output_type": "stream",
     "text": [
      "[[[2 2 2]\n",
      "  [2 2 2]]\n",
      "\n",
      " [[2 2 2]\n",
      "  [2 2 2]]]\n"
     ]
    }
   ],
   "source": [
    "import numpy as np\n",
    "# Creating a 3D NumPy array of Full with dimensions 2x2x3\n",
    "a = np.full([2, 2, 3],2)\n",
    "print(a)"
   ]
  },
  {
   "cell_type": "code",
   "execution_count": 17,
   "metadata": {},
   "outputs": [
    {
     "name": "stdout",
     "output_type": "stream",
     "text": [
      "[[[0.33540941 0.55248789 0.56786797]\n",
      "  [0.58941201 0.54469165 0.53073874]]\n",
      "\n",
      " [[0.3694292  0.81677183 0.25895584]\n",
      "  [0.75087095 0.63216821 0.39711493]]]\n"
     ]
    }
   ],
   "source": [
    "import numpy as np\n",
    "# Creating a 3D NumPy array of random with dimensions 2x2x3\n",
    "a = np.random.rand(2, 2, 3)\n",
    "print(a)"
   ]
  },
  {
   "cell_type": "code",
   "execution_count": 20,
   "metadata": {},
   "outputs": [
    {
     "name": "stdout",
     "output_type": "stream",
     "text": [
      "[[[1. 1. 1.]\n",
      "  [1. 1. 1.]]\n",
      "\n",
      " [[1. 1. 1.]\n",
      "  [1. 1. 1.]]]\n"
     ]
    }
   ],
   "source": [
    "import numpy as np\n",
    "# Creating a 3D NumPy array of ones with dimensions 2x2x3\n",
    "a = np.ones([2, 2, 3])\n",
    "print(a)"
   ]
  },
  {
   "cell_type": "code",
   "execution_count": 23,
   "metadata": {},
   "outputs": [
    {
     "name": "stdout",
     "output_type": "stream",
     "text": [
      "[[1. 0. 0. 0.]\n",
      " [0. 1. 0. 0.]\n",
      " [0. 0. 1. 0.]\n",
      " [0. 0. 0. 1.]]\n"
     ]
    }
   ],
   "source": [
    "import numpy as np\n",
    "# Creating a 3D NumPy array of eye with dimensions 2x2x3\n",
    "a = np.eye(4)\n",
    "print(a)"
   ]
  }
 ],
 "metadata": {
  "kernelspec": {
   "display_name": "Python 3",
   "language": "python",
   "name": "python3"
  },
  "language_info": {
   "codemirror_mode": {
    "name": "ipython",
    "version": 3
   },
   "file_extension": ".py",
   "mimetype": "text/x-python",
   "name": "python",
   "nbconvert_exporter": "python",
   "pygments_lexer": "ipython3",
   "version": "3.13.2"
  }
 },
 "nbformat": 4,
 "nbformat_minor": 2
}
