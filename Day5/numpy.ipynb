{
 "cells": [
  {
   "cell_type": "code",
   "execution_count": 34,
   "metadata": {},
   "outputs": [
    {
     "name": "stdout",
     "output_type": "stream",
     "text": [
      "2.2.4\n",
      "10\n",
      "[10]\n",
      "30\n",
      "[[[10 20 30]\n",
      "  [10 20 30]]\n",
      "\n",
      " [[50 60 80]\n",
      "  [20 50 60]]]\n"
     ]
    }
   ],
   "source": [
    "import numpy as np\n",
    "print(np.__version__)\n",
    "a = np.array(10)#odimensional array\n",
    "print(a)\n",
    "\n",
    "a1 =np.array([10,20])#1d\n",
    "#indexing\n",
    "print(a1[0:1])\n",
    "a2=np.array([[10,21],[20,30]])#2d\n",
    "a2[0][1]\n",
    "a3 = np.array([[[10,20,30],[10,20,30]],[[50,60,80],[20,50,60]]])#3dimensional array\n",
    "\n",
    "print(a3[0][1][2])#three dimensional\n",
    "print(a3)"
   ]
  },
  {
   "cell_type": "code",
   "execution_count": 35,
   "metadata": {},
   "outputs": [
    {
     "name": "stdout",
     "output_type": "stream",
     "text": [
      "30\n",
      "[[[10 20 30]\n",
      "  [10 20 30]]\n",
      "\n",
      " [[50 60 80]\n",
      "  [20 50 60]]]\n"
     ]
    }
   ],
   "source": [
    "a3 = np.array([[[10,20,30],[10,20,30]],[[50,60,80],[20,50,60]]])#3dimensional array\n",
    "\n",
    "print(a3[0][1][2])#three dimensional\n",
    "print(a3)"
   ]
  },
  {
   "cell_type": "markdown",
   "metadata": {},
   "source": [
    "asarray with nditer"
   ]
  },
  {
   "cell_type": "code",
   "execution_count": 36,
   "metadata": {},
   "outputs": [
    {
     "name": "stdout",
     "output_type": "stream",
     "text": [
      "[[11. 12.]\n",
      " [15. 16.]]\n"
     ]
    }
   ],
   "source": [
    "a=([[11,12,],[15,16]])\n",
    "b=np.asarray(a,dtype=float)\n",
    "print(b)"
   ]
  },
  {
   "cell_type": "markdown",
   "metadata": {},
   "source": [
    "#row major order(\"c\")///coloum major order(\"f\")"
   ]
  },
  {
   "cell_type": "code",
   "execution_count": 41,
   "metadata": {},
   "outputs": [
    {
     "name": "stdout",
     "output_type": "stream",
     "text": [
      "11\n",
      "12\n",
      "15\n",
      "16\n"
     ]
    }
   ],
   "source": [
    "b=np.asarray(a,dtype=int,order=\"c\")\n",
    "for i in np.nditer(b):\n",
    "    print(i)"
   ]
  },
  {
   "cell_type": "markdown",
   "metadata": {},
   "source": [
    "#from buffer\n"
   ]
  },
  {
   "cell_type": "code",
   "execution_count": 46,
   "metadata": {},
   "outputs": [
    {
     "data": {
      "text/plain": [
       "array([b'm', b'e', b' ', b't', b'o', b' ', b'n', b'u', b'm', b'p', b'y'],\n",
       "      dtype='|S1')"
      ]
     },
     "execution_count": 46,
     "metadata": {},
     "output_type": "execute_result"
    }
   ],
   "source": [
    "a=b\"welcome to numpy\"\n",
    "np.frombuffer(a,dtype=\"S1\",count=2)\n",
    "a=b\"welcome to numpy\"\n",
    "np.frombuffer(a,dtype=\"S1\",offset=5)"
   ]
  },
  {
   "cell_type": "markdown",
   "metadata": {},
   "source": [
    "fromiter()"
   ]
  },
  {
   "cell_type": "code",
   "execution_count": 48,
   "metadata": {},
   "outputs": [
    {
     "data": {
      "text/plain": [
       "array([b'1', b'1'], dtype='|S1')"
      ]
     },
     "execution_count": 48,
     "metadata": {},
     "output_type": "execute_result"
    }
   ],
   "source": [
    "a=[12.14,15]\n",
    "np.fromiter(a,dtype=\"S1\")"
   ]
  }
 ],
 "metadata": {
  "kernelspec": {
   "display_name": "Python 3",
   "language": "python",
   "name": "python3"
  },
  "language_info": {
   "codemirror_mode": {
    "name": "ipython",
    "version": 3
   },
   "file_extension": ".py",
   "mimetype": "text/x-python",
   "name": "python",
   "nbconvert_exporter": "python",
   "pygments_lexer": "ipython3",
   "version": "3.13.2"
  }
 },
 "nbformat": 4,
 "nbformat_minor": 2
}
